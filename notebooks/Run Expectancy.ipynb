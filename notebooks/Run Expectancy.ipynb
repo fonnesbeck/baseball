{
 "cells": [
  {
   "cell_type": "markdown",
   "metadata": {},
   "source": [
    "# Run Expectancy\n",
    "\n",
    "Ported from **Analyzing Baseball Data with R**, by Marchi, Albert and Baumer, Chapter 5"
   ]
  },
  {
   "cell_type": "code",
   "execution_count": 1,
   "metadata": {},
   "outputs": [],
   "source": [
    "import pandas as pd\n",
    "import numpy as np\n",
    "import seaborn as sns\n",
    "pd.options.display.max_columns = 999"
   ]
  },
  {
   "cell_type": "code",
   "execution_count": 2,
   "metadata": {},
   "outputs": [
    {
     "name": "stderr",
     "output_type": "stream",
     "text": [
      "/home/fonnesbeck/anaconda3/envs/baseball/lib/python3.8/site-packages/IPython/core/interactiveshell.py:3155: DtypeWarning: Columns (64,65,84,85) have mixed types.Specify dtype option on import or set low_memory=False.\n",
      "  has_raised = await self.run_ast_nodes(code_ast.body, cell_name,\n"
     ]
    }
   ],
   "source": [
    "fields = pd.read_csv('../data/fields.csv', index_col=0)\n",
    "data2016 = pd.read_csv('../data/all2016.csv', names=fields.Header)"
   ]
  },
  {
   "cell_type": "markdown",
   "metadata": {},
   "source": [
    "## Runs scored in the remainder of the inning"
   ]
  },
  {
   "cell_type": "code",
   "execution_count": 3,
   "metadata": {},
   "outputs": [],
   "source": [
    "data2016['RUNS'] = data2016.AWAY_SCORE_CT + data2016.HOME_SCORE_CT\n",
    "data2016['HALF_INNING'] = (data2016.GAME_ID \n",
    "                            + data2016.INN_CT.astype(str) \n",
    "                            + data2016.BAT_HOME_ID.astype(str))\n",
    "data2016['RUNS_SCORED'] = ((data2016.BAT_DEST_ID > 3).astype(int) \n",
    "                            + (data2016.RUN1_DEST_ID > 3).astype(int)\n",
    "                            + (data2016.RUN2_DEST_ID > 3).astype(int)\n",
    "                            + (data2016.RUN3_DEST_ID > 3).astype(int))"
   ]
  },
  {
   "cell_type": "code",
   "execution_count": 4,
   "metadata": {},
   "outputs": [],
   "source": [
    "half_innings = data2016.groupby('HALF_INNING').agg(outs_inning=('EVENT_OUTS_CT',sum),\n",
    "                                                    runs_inning=('RUNS_SCORED',sum),\n",
    "                                                    runs_start=('RUNS',min))\n",
    "half_innings['MAX_RUNS'] = half_innings.runs_inning + half_innings.runs_start"
   ]
  },
  {
   "cell_type": "markdown",
   "metadata": {},
   "source": [
    "The runs from the event to the end of the inning is the difference between the total runs scored in the inning and the runs scored up until the event."
   ]
  },
  {
   "cell_type": "code",
   "execution_count": 5,
   "metadata": {},
   "outputs": [],
   "source": [
    "data2016 = data2016.join(half_innings, on='HALF_INNING', how='inner')\n",
    "data2016['RUNS_ROI'] = data2016.MAX_RUNS - data2016.RUNS"
   ]
  },
  {
   "cell_type": "code",
   "execution_count": 6,
   "metadata": {},
   "outputs": [
    {
     "name": "stderr",
     "output_type": "stream",
     "text": [
      "<ipython-input-6-9fc932a53728>:1: DeprecationWarning: The truth value of an empty array is ambiguous. Returning False, but in future this will result in an error. Use `array.size > 0` to check that an array is not empty.\n",
      "  assert not data2016.loc[data2016.MAX_RUNS < data2016.RUNS, ['HALF_INNING', 'RUNS_SCORED', 'RUNS', 'MAX_RUNS']].values\n"
     ]
    }
   ],
   "source": [
    "assert not data2016.loc[data2016.MAX_RUNS < data2016.RUNS, ['HALF_INNING', 'RUNS_SCORED', 'RUNS', 'MAX_RUNS']].values"
   ]
  },
  {
   "cell_type": "markdown",
   "metadata": {},
   "source": [
    "## Run expectancy matrix\n",
    "\n",
    "Create string variable for base occupancy state."
   ]
  },
  {
   "cell_type": "code",
   "execution_count": 7,
   "metadata": {},
   "outputs": [
    {
     "data": {
      "text/plain": [
       "array(['0000', '0100', '0011', '0012', '1002', '0001', '0002', '1001',\n",
       "       '1000', '1100', '1101', '0111', '1011', '1102', '0110', '1111',\n",
       "       '1012', '1112', '0102', '1010', '0101', '0112', '1110', '0010'],\n",
       "      dtype=object)"
      ]
     },
     "execution_count": 7,
     "metadata": {},
     "output_type": "execute_result"
    }
   ],
   "source": [
    "data2016['STATE'] = ((~data2016.BASE1_RUN_ID.isnull()).astype(int).astype(str)\n",
    "                    + (~data2016.BASE2_RUN_ID.isnull()).astype(int).astype(str)\n",
    "                    + (~data2016.BASE3_RUN_ID.isnull()).astype(int).astype(str)\n",
    "                    + data2016.OUTS_CT.astype(str))\n",
    "\n",
    "data2016['STATE'].unique()"
   ]
  },
  {
   "cell_type": "markdown",
   "metadata": {},
   "source": [
    "Create indicators for base occupancy following the play."
   ]
  },
  {
   "cell_type": "code",
   "execution_count": 8,
   "metadata": {},
   "outputs": [
    {
     "data": {
      "text/html": [
       "<div>\n",
       "<style scoped>\n",
       "    .dataframe tbody tr th:only-of-type {\n",
       "        vertical-align: middle;\n",
       "    }\n",
       "\n",
       "    .dataframe tbody tr th {\n",
       "        vertical-align: top;\n",
       "    }\n",
       "\n",
       "    .dataframe thead th {\n",
       "        text-align: right;\n",
       "    }\n",
       "</style>\n",
       "<table border=\"1\" class=\"dataframe\">\n",
       "  <thead>\n",
       "    <tr style=\"text-align: right;\">\n",
       "      <th></th>\n",
       "      <th>STATE</th>\n",
       "      <th>NEW_STATE</th>\n",
       "    </tr>\n",
       "  </thead>\n",
       "  <tbody>\n",
       "    <tr>\n",
       "      <th>0</th>\n",
       "      <td>0000</td>\n",
       "      <td>0100</td>\n",
       "    </tr>\n",
       "    <tr>\n",
       "      <th>1</th>\n",
       "      <td>0100</td>\n",
       "      <td>0011</td>\n",
       "    </tr>\n",
       "    <tr>\n",
       "      <th>2</th>\n",
       "      <td>0011</td>\n",
       "      <td>0012</td>\n",
       "    </tr>\n",
       "    <tr>\n",
       "      <th>3</th>\n",
       "      <td>0012</td>\n",
       "      <td>1002</td>\n",
       "    </tr>\n",
       "    <tr>\n",
       "      <th>4</th>\n",
       "      <td>1002</td>\n",
       "      <td>1003</td>\n",
       "    </tr>\n",
       "  </tbody>\n",
       "</table>\n",
       "</div>"
      ],
      "text/plain": [
       "  STATE NEW_STATE\n",
       "0  0000      0100\n",
       "1  0100      0011\n",
       "2  0011      0012\n",
       "3  0012      1002\n",
       "4  1002      1003"
      ]
     },
     "execution_count": 8,
     "metadata": {},
     "output_type": "execute_result"
    }
   ],
   "source": [
    "data2016['NRUNNER1'] = ((data2016.RUN1_DEST_ID==1) | (data2016.BAT_DEST_ID==1)).astype(int)\n",
    "data2016['NRUNNER2'] = ((data2016.RUN1_DEST_ID==2) | (data2016.RUN2_DEST_ID==2) \n",
    "                            | (data2016.BAT_DEST_ID==2)).astype(int)\n",
    "data2016['NRUNNER3'] = ((data2016.RUN1_DEST_ID==3) | (data2016.RUN2_DEST_ID==3) \n",
    "                            | (data2016.RUN3_DEST_ID==3) | (data2016.BAT_DEST_ID==3)).astype(int)\n",
    "data2016['NOUTS'] = data2016.OUTS_CT + data2016.EVENT_OUTS_CT\n",
    "data2016['NEW_BASES'] = data2016[['NRUNNER1', 'NRUNNER2', 'NRUNNER3']].astype(int).astype(str).agg(''.join, axis=1)\n",
    "data2016['NEW_STATE'] = data2016[['NEW_BASES', 'NOUTS']].astype(str).agg(''.join, axis=1)\n",
    "\n",
    "data2016[['STATE', 'NEW_STATE']].head()"
   ]
  },
  {
   "cell_type": "markdown",
   "metadata": {},
   "source": [
    "Condition on change between state and new state, or runs scored."
   ]
  },
  {
   "cell_type": "code",
   "execution_count": 9,
   "metadata": {},
   "outputs": [],
   "source": [
    "data2016 = data2016.query('(STATE != NEW_STATE) | (RUNS_SCORED > 0)')"
   ]
  },
  {
   "cell_type": "markdown",
   "metadata": {},
   "source": [
    "Remove incomplete innings."
   ]
  },
  {
   "cell_type": "code",
   "execution_count": 10,
   "metadata": {},
   "outputs": [],
   "source": [
    "data2016_complete = data2016.query('outs_inning==3')"
   ]
  },
  {
   "cell_type": "markdown",
   "metadata": {},
   "source": [
    "Calculate run expectancy for base/outs states."
   ]
  },
  {
   "cell_type": "code",
   "execution_count": 11,
   "metadata": {},
   "outputs": [],
   "source": [
    "expected_runs = data2016_complete.groupby('STATE').agg(mean_runs=('RUNS_ROI', 'mean')).reset_index()\n",
    "expected_runs['base_state'] = expected_runs.STATE.str[:3]\n",
    "expected_runs['outs'] = expected_runs.STATE.str[-1]"
   ]
  },
  {
   "cell_type": "code",
   "execution_count": 12,
   "metadata": {},
   "outputs": [
    {
     "data": {
      "text/html": [
       "<div>\n",
       "<style scoped>\n",
       "    .dataframe tbody tr th:only-of-type {\n",
       "        vertical-align: middle;\n",
       "    }\n",
       "\n",
       "    .dataframe tbody tr th {\n",
       "        vertical-align: top;\n",
       "    }\n",
       "\n",
       "    .dataframe thead th {\n",
       "        text-align: right;\n",
       "    }\n",
       "</style>\n",
       "<table border=\"1\" class=\"dataframe\">\n",
       "  <thead>\n",
       "    <tr style=\"text-align: right;\">\n",
       "      <th>outs</th>\n",
       "      <th>0</th>\n",
       "      <th>1</th>\n",
       "      <th>2</th>\n",
       "    </tr>\n",
       "    <tr>\n",
       "      <th>base_state</th>\n",
       "      <th></th>\n",
       "      <th></th>\n",
       "      <th></th>\n",
       "    </tr>\n",
       "  </thead>\n",
       "  <tbody>\n",
       "    <tr>\n",
       "      <th>000</th>\n",
       "      <td>0.50</td>\n",
       "      <td>0.27</td>\n",
       "      <td>0.11</td>\n",
       "    </tr>\n",
       "    <tr>\n",
       "      <th>001</th>\n",
       "      <td>1.35</td>\n",
       "      <td>0.94</td>\n",
       "      <td>0.37</td>\n",
       "    </tr>\n",
       "    <tr>\n",
       "      <th>010</th>\n",
       "      <td>1.13</td>\n",
       "      <td>0.67</td>\n",
       "      <td>0.31</td>\n",
       "    </tr>\n",
       "    <tr>\n",
       "      <th>011</th>\n",
       "      <td>1.93</td>\n",
       "      <td>1.36</td>\n",
       "      <td>0.55</td>\n",
       "    </tr>\n",
       "    <tr>\n",
       "      <th>100</th>\n",
       "      <td>0.86</td>\n",
       "      <td>0.51</td>\n",
       "      <td>0.22</td>\n",
       "    </tr>\n",
       "    <tr>\n",
       "      <th>101</th>\n",
       "      <td>1.72</td>\n",
       "      <td>1.20</td>\n",
       "      <td>0.48</td>\n",
       "    </tr>\n",
       "    <tr>\n",
       "      <th>110</th>\n",
       "      <td>1.44</td>\n",
       "      <td>0.92</td>\n",
       "      <td>0.41</td>\n",
       "    </tr>\n",
       "    <tr>\n",
       "      <th>111</th>\n",
       "      <td>2.11</td>\n",
       "      <td>1.54</td>\n",
       "      <td>0.70</td>\n",
       "    </tr>\n",
       "  </tbody>\n",
       "</table>\n",
       "</div>"
      ],
      "text/plain": [
       "outs           0     1     2\n",
       "base_state                  \n",
       "000         0.50  0.27  0.11\n",
       "001         1.35  0.94  0.37\n",
       "010         1.13  0.67  0.31\n",
       "011         1.93  1.36  0.55\n",
       "100         0.86  0.51  0.22\n",
       "101         1.72  1.20  0.48\n",
       "110         1.44  0.92  0.41\n",
       "111         2.11  1.54  0.70"
      ]
     },
     "execution_count": 12,
     "metadata": {},
     "output_type": "execute_result"
    }
   ],
   "source": [
    "expected_runs.pivot(index='base_state', columns='outs', values='mean_runs').round(2)"
   ]
  },
  {
   "cell_type": "markdown",
   "metadata": {},
   "source": [
    "## Estimating the success of a batting play"
   ]
  },
  {
   "cell_type": "code",
   "execution_count": 13,
   "metadata": {},
   "outputs": [
    {
     "data": {
      "text/html": [
       "<div>\n",
       "<style scoped>\n",
       "    .dataframe tbody tr th:only-of-type {\n",
       "        vertical-align: middle;\n",
       "    }\n",
       "\n",
       "    .dataframe tbody tr th {\n",
       "        vertical-align: top;\n",
       "    }\n",
       "\n",
       "    .dataframe thead th {\n",
       "        text-align: right;\n",
       "    }\n",
       "</style>\n",
       "<table border=\"1\" class=\"dataframe\">\n",
       "  <thead>\n",
       "    <tr style=\"text-align: right;\">\n",
       "      <th></th>\n",
       "      <th>STATE</th>\n",
       "      <th>mean_runs</th>\n",
       "      <th>base_state</th>\n",
       "      <th>outs</th>\n",
       "    </tr>\n",
       "  </thead>\n",
       "  <tbody>\n",
       "    <tr>\n",
       "      <th>0</th>\n",
       "      <td>0000</td>\n",
       "      <td>0.498168</td>\n",
       "      <td>000</td>\n",
       "      <td>0</td>\n",
       "    </tr>\n",
       "    <tr>\n",
       "      <th>1</th>\n",
       "      <td>0001</td>\n",
       "      <td>0.267903</td>\n",
       "      <td>000</td>\n",
       "      <td>1</td>\n",
       "    </tr>\n",
       "    <tr>\n",
       "      <th>2</th>\n",
       "      <td>0002</td>\n",
       "      <td>0.106208</td>\n",
       "      <td>000</td>\n",
       "      <td>2</td>\n",
       "    </tr>\n",
       "    <tr>\n",
       "      <th>3</th>\n",
       "      <td>0010</td>\n",
       "      <td>1.346979</td>\n",
       "      <td>001</td>\n",
       "      <td>0</td>\n",
       "    </tr>\n",
       "    <tr>\n",
       "      <th>4</th>\n",
       "      <td>0011</td>\n",
       "      <td>0.936888</td>\n",
       "      <td>001</td>\n",
       "      <td>1</td>\n",
       "    </tr>\n",
       "  </tbody>\n",
       "</table>\n",
       "</div>"
      ],
      "text/plain": [
       "  STATE  mean_runs base_state outs\n",
       "0  0000   0.498168        000    0\n",
       "1  0001   0.267903        000    1\n",
       "2  0002   0.106208        000    2\n",
       "3  0010   1.346979        001    0\n",
       "4  0011   0.936888        001    1"
      ]
     },
     "execution_count": 13,
     "metadata": {},
     "output_type": "execute_result"
    }
   ],
   "source": [
    "expected_runs.head()"
   ]
  },
  {
   "cell_type": "code",
   "execution_count": 14,
   "metadata": {},
   "outputs": [
    {
     "data": {
      "text/plain": [
       "RangeIndex(start=0, stop=24, step=1)"
      ]
     },
     "execution_count": 14,
     "metadata": {},
     "output_type": "execute_result"
    }
   ],
   "source": [
    "expected_runs.index"
   ]
  },
  {
   "cell_type": "code",
   "execution_count": 15,
   "metadata": {},
   "outputs": [
    {
     "data": {
      "text/plain": [
       "Int64Index([     0,      1,      2,      3,      4,      5,      6,      7,\n",
       "                 8,      9,\n",
       "            ...\n",
       "            190705, 190706, 190707, 190708, 190709, 190710, 190711, 190712,\n",
       "            190713, 190714],\n",
       "           dtype='int64', length=190556)"
      ]
     },
     "execution_count": 15,
     "metadata": {},
     "output_type": "execute_result"
    }
   ],
   "source": [
    "data2016.index"
   ]
  },
  {
   "cell_type": "code",
   "execution_count": 16,
   "metadata": {},
   "outputs": [],
   "source": [
    "data2016 = (pd.merge(data2016, expected_runs, how='left', on='STATE')\n",
    "    .rename({'mean_runs':'runs_state'}, axis=1)\n",
    "    .merge(expected_runs, how='left', left_on='NEW_STATE', right_on='STATE')\n",
    "    .rename({'mean_runs':'runs_new_state',\n",
    "            'STATE_x':'STATE'}, axis=1)\n",
    "    .fillna(value={'runs_new_state': 0})\n",
    "    .drop('STATE_y', axis=1)\n",
    ")"
   ]
  },
  {
   "cell_type": "code",
   "execution_count": 17,
   "metadata": {},
   "outputs": [],
   "source": [
    "data2016['run_value'] = data2016.runs_new_state - data2016.runs_state + data2016.RUNS_SCORED"
   ]
  },
  {
   "cell_type": "code",
   "execution_count": 18,
   "metadata": {},
   "outputs": [
    {
     "data": {
      "text/plain": [
       "Index(['LAST', ' FIRST', ' ID', ' DEBUT'], dtype='object')"
      ]
     },
     "execution_count": 18,
     "metadata": {},
     "output_type": "execute_result"
    }
   ],
   "source": [
    "retroids = pd.read_csv('../data/retrosheetIDs.csv')\n",
    "retroids.columns"
   ]
  },
  {
   "cell_type": "code",
   "execution_count": 19,
   "metadata": {},
   "outputs": [],
   "source": [
    "data2016['BASES'] = data2016.STATE.str[:-1]"
   ]
  },
  {
   "cell_type": "markdown",
   "metadata": {},
   "source": [
    "Example: Jose Altuve"
   ]
  },
  {
   "cell_type": "code",
   "execution_count": 20,
   "metadata": {},
   "outputs": [
    {
     "data": {
      "text/html": [
       "<div>\n",
       "<style scoped>\n",
       "    .dataframe tbody tr th:only-of-type {\n",
       "        vertical-align: middle;\n",
       "    }\n",
       "\n",
       "    .dataframe tbody tr th {\n",
       "        vertical-align: top;\n",
       "    }\n",
       "\n",
       "    .dataframe thead th {\n",
       "        text-align: right;\n",
       "    }\n",
       "</style>\n",
       "<table border=\"1\" class=\"dataframe\">\n",
       "  <thead>\n",
       "    <tr style=\"text-align: right;\">\n",
       "      <th></th>\n",
       "      <th>STATE</th>\n",
       "      <th>NEW_STATE</th>\n",
       "      <th>run_value</th>\n",
       "    </tr>\n",
       "  </thead>\n",
       "  <tbody>\n",
       "    <tr>\n",
       "      <th>28048</th>\n",
       "      <td>0001</td>\n",
       "      <td>0002</td>\n",
       "      <td>-0.161695</td>\n",
       "    </tr>\n",
       "    <tr>\n",
       "      <th>28049</th>\n",
       "      <td>0001</td>\n",
       "      <td>1001</td>\n",
       "      <td>0.244231</td>\n",
       "    </tr>\n",
       "    <tr>\n",
       "      <th>28050</th>\n",
       "      <td>0001</td>\n",
       "      <td>0002</td>\n",
       "      <td>-0.161695</td>\n",
       "    </tr>\n",
       "    <tr>\n",
       "      <th>28051</th>\n",
       "      <td>0100</td>\n",
       "      <td>0011</td>\n",
       "      <td>-0.196288</td>\n",
       "    </tr>\n",
       "    <tr>\n",
       "      <th>28052</th>\n",
       "      <td>1002</td>\n",
       "      <td>1102</td>\n",
       "      <td>0.193404</td>\n",
       "    </tr>\n",
       "    <tr>\n",
       "      <th>...</th>\n",
       "      <td>...</td>\n",
       "      <td>...</td>\n",
       "      <td>...</td>\n",
       "    </tr>\n",
       "    <tr>\n",
       "      <th>28781</th>\n",
       "      <td>0002</td>\n",
       "      <td>0012</td>\n",
       "      <td>0.265745</td>\n",
       "    </tr>\n",
       "    <tr>\n",
       "      <th>28782</th>\n",
       "      <td>0002</td>\n",
       "      <td>0003</td>\n",
       "      <td>-0.106208</td>\n",
       "    </tr>\n",
       "    <tr>\n",
       "      <th>28783</th>\n",
       "      <td>1001</td>\n",
       "      <td>1002</td>\n",
       "      <td>-0.291928</td>\n",
       "    </tr>\n",
       "    <tr>\n",
       "      <th>28784</th>\n",
       "      <td>0000</td>\n",
       "      <td>0001</td>\n",
       "      <td>-0.230266</td>\n",
       "    </tr>\n",
       "    <tr>\n",
       "      <th>28785</th>\n",
       "      <td>1102</td>\n",
       "      <td>1103</td>\n",
       "      <td>-0.413610</td>\n",
       "    </tr>\n",
       "  </tbody>\n",
       "</table>\n",
       "<p>717 rows × 3 columns</p>\n",
       "</div>"
      ],
      "text/plain": [
       "      STATE NEW_STATE  run_value\n",
       "28048  0001      0002  -0.161695\n",
       "28049  0001      1001   0.244231\n",
       "28050  0001      0002  -0.161695\n",
       "28051  0100      0011  -0.196288\n",
       "28052  1002      1102   0.193404\n",
       "...     ...       ...        ...\n",
       "28781  0002      0012   0.265745\n",
       "28782  0002      0003  -0.106208\n",
       "28783  1001      1002  -0.291928\n",
       "28784  0000      0001  -0.230266\n",
       "28785  1102      1103  -0.413610\n",
       "\n",
       "[717 rows x 3 columns]"
      ]
     },
     "execution_count": 20,
     "metadata": {},
     "output_type": "execute_result"
    }
   ],
   "source": [
    "altuve = (data2016.merge(retroids, left_on='BAT_ID', right_on=' ID')\n",
    "            .query('(LAST==\"Altuve\") & (BAT_EVENT_FL==\"T\")'))\n",
    "altuve[['STATE', 'NEW_STATE', 'run_value']]"
   ]
  },
  {
   "cell_type": "code",
   "execution_count": 21,
   "metadata": {},
   "outputs": [
    {
     "data": {
      "text/plain": [
       "[Text(0, 0.5, '')]"
      ]
     },
     "execution_count": 21,
     "metadata": {},
     "output_type": "execute_result"
    },
    {
     "data": {
      "image/png": "[encoded data removed]",
      "text/plain": [
       "<Figure size 432x288 with 1 Axes>"
      ]
     },
     "metadata": {
      "needs_background": "light"
     },
     "output_type": "display_data"
    }
   ],
   "source": [
    "ax = sns.stripplot(data=altuve, x=\"BASES\", y=\"run_value\", hue=\"OUTS_CT\")\n",
    "ax.set(ylabel=\"\")"
   ]
  },
  {
   "cell_type": "code",
   "execution_count": 22,
   "metadata": {},
   "outputs": [
    {
     "data": {
      "text/plain": [
       "28048   -0.161695\n",
       "28049    0.244231\n",
       "28050   -0.161695\n",
       "28051   -0.196288\n",
       "28052    0.193404\n",
       "           ...   \n",
       "28781    0.265745\n",
       "28782   -0.106208\n",
       "28783   -0.291928\n",
       "28784   -0.230266\n",
       "28785   -0.413610\n",
       "Name: run_value, Length: 717, dtype: float64"
      ]
     },
     "execution_count": 22,
     "metadata": {},
     "output_type": "execute_result"
    }
   ],
   "source": [
    "altuve.run_value"
   ]
  },
  {
   "cell_type": "code",
   "execution_count": 23,
   "metadata": {},
   "outputs": [
    {
     "data": {
      "text/html": [
       "<div>\n",
       "<style scoped>\n",
       "    .dataframe tbody tr th:only-of-type {\n",
       "        vertical-align: middle;\n",
       "    }\n",
       "\n",
       "    .dataframe tbody tr th {\n",
       "        vertical-align: top;\n",
       "    }\n",
       "\n",
       "    .dataframe thead th {\n",
       "        text-align: right;\n",
       "    }\n",
       "</style>\n",
       "<table border=\"1\" class=\"dataframe\">\n",
       "  <thead>\n",
       "    <tr style=\"text-align: right;\">\n",
       "      <th></th>\n",
       "      <th>RUNS</th>\n",
       "      <th>PA</th>\n",
       "    </tr>\n",
       "    <tr>\n",
       "      <th>BASES</th>\n",
       "      <th></th>\n",
       "      <th></th>\n",
       "    </tr>\n",
       "  </thead>\n",
       "  <tbody>\n",
       "    <tr>\n",
       "      <th>000</th>\n",
       "      <td>10.098301</td>\n",
       "      <td>417</td>\n",
       "    </tr>\n",
       "    <tr>\n",
       "      <th>001</th>\n",
       "      <td>4.060483</td>\n",
       "      <td>24</td>\n",
       "    </tr>\n",
       "    <tr>\n",
       "      <th>010</th>\n",
       "      <td>0.069487</td>\n",
       "      <td>60</td>\n",
       "    </tr>\n",
       "    <tr>\n",
       "      <th>011</th>\n",
       "      <td>3.433512</td>\n",
       "      <td>18</td>\n",
       "    </tr>\n",
       "    <tr>\n",
       "      <th>100</th>\n",
       "      <td>10.193986</td>\n",
       "      <td>128</td>\n",
       "    </tr>\n",
       "    <tr>\n",
       "      <th>101</th>\n",
       "      <td>1.341679</td>\n",
       "      <td>22</td>\n",
       "    </tr>\n",
       "    <tr>\n",
       "      <th>110</th>\n",
       "      <td>5.623835</td>\n",
       "      <td>40</td>\n",
       "    </tr>\n",
       "    <tr>\n",
       "      <th>111</th>\n",
       "      <td>-0.096793</td>\n",
       "      <td>8</td>\n",
       "    </tr>\n",
       "  </tbody>\n",
       "</table>\n",
       "</div>"
      ],
      "text/plain": [
       "            RUNS   PA\n",
       "BASES                \n",
       "000    10.098301  417\n",
       "001     4.060483   24\n",
       "010     0.069487   60\n",
       "011     3.433512   18\n",
       "100    10.193986  128\n",
       "101     1.341679   22\n",
       "110     5.623835   40\n",
       "111    -0.096793    8"
      ]
     },
     "execution_count": 23,
     "metadata": {},
     "output_type": "execute_result"
    }
   ],
   "source": [
    "runs_altuve = altuve.groupby('BASES').agg(RUNS=('run_value', sum), PA=('run_value', 'count'))\n",
    "runs_altuve"
   ]
  },
  {
   "cell_type": "code",
   "execution_count": 24,
   "metadata": {},
   "outputs": [],
   "source": [
    "data2016b = data2016.query('BAT_EVENT_FL==\"T\"')"
   ]
  },
  {
   "cell_type": "code",
   "execution_count": 25,
   "metadata": {},
   "outputs": [],
   "source": [
    "runs = data2016b.groupby('BAT_ID').agg(RE24=('run_value', sum),\n",
    "                                PA=('run_value', 'count'),\n",
    "                                RUNS_START=('runs_state', sum))\n",
    "\n",
    "runs_400 = runs.query('PA>=400')"
   ]
  },
  {
   "cell_type": "code",
   "execution_count": 26,
   "metadata": {},
   "outputs": [
    {
     "data": {
      "image/png": "[encoded data removed]",
      "text/plain": [
       "<Figure size 432x288 with 1 Axes>"
      ]
     },
     "metadata": {
      "needs_background": "light"
     },
     "output_type": "display_data"
    }
   ],
   "source": [
    "sns.regplot(x='RUNS_START', y='RE24', data=runs_400, lowess=True);"
   ]
  },
  {
   "cell_type": "markdown",
   "metadata": {},
   "source": [
    "## Run values of different hits"
   ]
  },
  {
   "cell_type": "code",
   "execution_count": 27,
   "metadata": {},
   "outputs": [],
   "source": [
    "home_runs = data2016.query('EVENT_CD==23')"
   ]
  },
  {
   "cell_type": "code",
   "execution_count": 28,
   "metadata": {},
   "outputs": [
    {
     "data": {
      "text/plain": [
       "STATE\n",
       "0000    0.273\n",
       "0001    0.171\n",
       "0002    0.151\n",
       "1001    0.064\n",
       "1002    0.061\n",
       "1000    0.057\n",
       "0102    0.028\n",
       "1102    0.028\n",
       "0101    0.027\n",
       "1101    0.023\n",
       "0100    0.017\n",
       "1100    0.015\n",
       "1011    0.013\n",
       "1012    0.011\n",
       "0012    0.011\n",
       "1112    0.009\n",
       "1111    0.008\n",
       "0011    0.007\n",
       "0112    0.007\n",
       "0111    0.007\n",
       "1010    0.005\n",
       "0110    0.004\n",
       "1110    0.003\n",
       "0010    0.002\n",
       "dtype: float64"
      ]
     },
     "execution_count": 28,
     "metadata": {},
     "output_type": "execute_result"
    }
   ],
   "source": [
    "(home_runs.groupby('STATE').size().sort_values(ascending=False) / home_runs.shape[0]).round(3)"
   ]
  },
  {
   "cell_type": "markdown",
   "metadata": {},
   "source": [
    "Run value of a home run"
   ]
  },
  {
   "cell_type": "code",
   "execution_count": 29,
   "metadata": {},
   "outputs": [
    {
     "data": {
      "text/plain": [
       "1.3816001785082235"
      ]
     },
     "execution_count": 29,
     "metadata": {},
     "output_type": "execute_result"
    }
   ],
   "source": [
    "home_runs.run_value.mean()"
   ]
  },
  {
   "cell_type": "code",
   "execution_count": 30,
   "metadata": {},
   "outputs": [
    {
     "name": "stderr",
     "output_type": "stream",
     "text": [
      "/home/fonnesbeck/anaconda3/envs/baseball/lib/python3.8/site-packages/seaborn/distributions.py:2557: FutureWarning: `distplot` is a deprecated function and will be removed in a future version. Please adapt your code to use either `displot` (a figure-level function with similar flexibility) or `histplot` (an axes-level function for histograms).\n",
      "  warnings.warn(msg, FutureWarning)\n"
     ]
    },
    {
     "data": {
      "image/png": "[encoded data removed]",
      "text/plain": [
       "<Figure size 432x288 with 1 Axes>"
      ]
     },
     "metadata": {
      "needs_background": "light"
     },
     "output_type": "display_data"
    }
   ],
   "source": [
    "ax = sns.distplot(home_runs.run_value, kde=False)\n",
    "ax.vlines(home_runs.run_value.mean(), ymin=0, ymax=ax.get_ylim()[1], color='r');"
   ]
  },
  {
   "cell_type": "code",
   "execution_count": 31,
   "metadata": {},
   "outputs": [],
   "source": [
    "singles = data2016.query('EVENT_CD==20')"
   ]
  },
  {
   "cell_type": "code",
   "execution_count": 32,
   "metadata": {},
   "outputs": [
    {
     "name": "stderr",
     "output_type": "stream",
     "text": [
      "/home/fonnesbeck/anaconda3/envs/baseball/lib/python3.8/site-packages/seaborn/distributions.py:2557: FutureWarning: `distplot` is a deprecated function and will be removed in a future version. Please adapt your code to use either `displot` (a figure-level function with similar flexibility) or `histplot` (an axes-level function for histograms).\n",
      "  warnings.warn(msg, FutureWarning)\n"
     ]
    },
    {
     "data": {
      "image/png": "[encoded data removed]",
      "text/plain": [
       "<Figure size 432x288 with 1 Axes>"
      ]
     },
     "metadata": {
      "needs_background": "light"
     },
     "output_type": "display_data"
    }
   ],
   "source": [
    "ax = sns.distplot(singles.run_value, kde=False)\n",
    "ax.vlines(singles.run_value.mean(), ymin=0, ymax=ax.get_ylim()[1], color='r');"
   ]
  },
  {
   "cell_type": "markdown",
   "metadata": {},
   "source": [
    "## Value of base stealing"
   ]
  },
  {
   "cell_type": "code",
   "execution_count": 37,
   "metadata": {},
   "outputs": [
    {
     "data": {
      "text/plain": [
       "4    2213\n",
       "6     712\n",
       "Name: EVENT_CD, dtype: int64"
      ]
     },
     "execution_count": 37,
     "metadata": {},
     "output_type": "execute_result"
    }
   ],
   "source": [
    "stealing = data2016[data2016.EVENT_CD.isin([4, 6])]\n",
    "stealing.EVENT_CD.value_counts()"
   ]
  },
  {
   "cell_type": "code",
   "execution_count": 38,
   "metadata": {},
   "outputs": [
    {
     "data": {
      "text/plain": [
       "STATE\n",
       "0011      1\n",
       "0012      1\n",
       "0100     37\n",
       "0101    124\n",
       "0102    102\n",
       "0111      1\n",
       "1000    559\n",
       "1001    708\n",
       "1002    870\n",
       "1010     37\n",
       "1011     99\n",
       "1012    219\n",
       "1100     29\n",
       "1101     84\n",
       "1102     53\n",
       "1111      1\n",
       "dtype: int64"
      ]
     },
     "execution_count": 38,
     "metadata": {},
     "output_type": "execute_result"
    }
   ],
   "source": [
    "stealing.groupby('STATE').size()"
   ]
  },
  {
   "cell_type": "code",
   "execution_count": 41,
   "metadata": {},
   "outputs": [
    {
     "data": {
      "image/png": "[encoded data removed]",
      "text/plain": [
       "<Figure size 720x360 with 2 Axes>"
      ]
     },
     "metadata": {
      "needs_background": "light"
     },
     "output_type": "display_data"
    }
   ],
   "source": [
    "sns.displot(stealing, x='run_value', col='EVENT_CD');"
   ]
  },
  {
   "cell_type": "code",
   "execution_count": 44,
   "metadata": {},
   "outputs": [
    {
     "data": {
      "text/plain": [
       "EVENT_CD\n",
       "4    0.70339\n",
       "6    0.29661\n",
       "dtype: float64"
      ]
     },
     "execution_count": 44,
     "metadata": {},
     "output_type": "execute_result"
    }
   ],
   "source": [
    "stealing_1001 = stealing.query('STATE==\"1001\"').groupby('EVENT_CD').size()\n",
    "stealing_1001 / stealing_1001.sum()"
   ]
  },
  {
   "cell_type": "markdown",
   "metadata": {},
   "source": [
    "Sometimes the runner ends up on third."
   ]
  },
  {
   "cell_type": "code",
   "execution_count": 48,
   "metadata": {},
   "outputs": [
    {
     "data": {
      "text/plain": [
       "NEW_STATE\n",
       "0001      1\n",
       "0002    211\n",
       "0011     39\n",
       "0101    457\n",
       "dtype: int64"
      ]
     },
     "execution_count": 48,
     "metadata": {},
     "output_type": "execute_result"
    }
   ],
   "source": [
    "stealing.query('STATE==\"1001\"').groupby('NEW_STATE').size()"
   ]
  },
  {
   "cell_type": "code",
   "execution_count": 49,
   "metadata": {},
   "outputs": [
    {
     "data": {
      "text/plain": [
       "0.0072327233560250965"
      ]
     },
     "execution_count": 49,
     "metadata": {},
     "output_type": "execute_result"
    }
   ],
   "source": [
    "stealing.query('STATE==\"1001\"').run_value.mean()"
   ]
  }
 ],
 "metadata": {
  "kernelspec": {
   "display_name": "Python 3",
   "language": "python",
   "name": "python3"
  },
  "language_info": {
   "codemirror_mode": {
    "name": "ipython",
    "version": 3
   },
   "file_extension": ".py",
   "mimetype": "text/x-python",
   "name": "python",
   "nbconvert_exporter": "python",
   "pygments_lexer": "ipython3",
   "version": "3.8.6"
  }
 },
 "nbformat": 4,
 "nbformat_minor": 4
}
