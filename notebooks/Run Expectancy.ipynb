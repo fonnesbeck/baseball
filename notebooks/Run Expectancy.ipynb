{
 "cells": [
  {
   "source": [
    "# Run Expectancy"
   ],
   "cell_type": "markdown",
   "metadata": {}
  },
  {
   "cell_type": "code",
   "execution_count": 1,
   "metadata": {},
   "outputs": [],
   "source": [
    "import pandas as pd\n",
    "import numpy as np\n",
    "pd.options.display.max_columns = 999"
   ]
  },
  {
   "cell_type": "code",
   "execution_count": 2,
   "metadata": {},
   "outputs": [],
   "source": [
    "fields = pd.read_csv('../data/fields.csv', index_col=0)\n",
    "data2016 = pd.read_csv('../data/all2016.csv', names=fields.Header)"
   ]
  },
  {
   "cell_type": "code",
   "execution_count": 3,
   "metadata": {},
   "outputs": [],
   "source": [
    "data2016['RUNS'] = data2016.AWAY_SCORE_CT + data2016.HOME_SCORE_CT\n",
    "data2016['HALF_INNING'] = (data2016.GAME_ID \n",
    "                            + data2016.INN_CT.astype(str) \n",
    "                            + data2016.BAT_HOME_ID.astype(str))\n",
    "data2016['RUNS_SCORED'] = ((data2016.BAT_DEST_ID > 3).astype(int) \n",
    "                            + (data2016.RUN1_DEST_ID > 3).astype(int)\n",
    "                            + (data2016.RUN2_DEST_ID > 3).astype(int)\n",
    "                            + (data2016.RUN3_DEST_ID > 3).astype(int))"
   ]
  },
  {
   "cell_type": "code",
   "execution_count": 5,
   "metadata": {},
   "outputs": [],
   "source": [
    "half_innings = data2016.groupby('HALF_INNING').agg(outs_inning=('EVENT_OUTS_CT',sum),\n",
    "                                                    runs_inning=('RUNS_SCORED',sum),\n",
    "                                                    runs_start=('RUNS',min))\n",
    "half_innings['MAX_RUNS'] = half_innings.runs_inning + half_innings.runs_start"
   ]
  },
  {
   "cell_type": "markdown",
   "metadata": {},
   "source": [
    "The runs from the event to the end of the inning is the difference between the total runs scored in the inning and the runs scored up until the event."
   ]
  },
  {
   "cell_type": "code",
   "execution_count": 8,
   "metadata": {},
   "outputs": [],
   "source": [
    "data2016 = data2016.join(half_innings, on='HALF_INNING', how='inner')\n",
    "data2016['RUNS_ROI'] = data2016.MAX_RUNS - data2016.RUNS"
   ]
  },
  {
   "cell_type": "code",
   "execution_count": 16,
   "metadata": {},
   "outputs": [],
   "source": [
    "assert not data2016.loc[data2016.MAX_RUNS < data2016.RUNS, ['HALF_INNING', 'RUNS_SCORED', 'RUNS', 'MAX_RUNS']].values"
   ]
  },
  {
   "cell_type": "markdown",
   "metadata": {},
   "source": [
    "## Create Matrix\n",
    "\n",
    "Create string variable for base occupancy state."
   ]
  },
  {
   "cell_type": "code",
   "execution_count": 10,
   "metadata": {},
   "outputs": [
    {
     "output_type": "execute_result",
     "data": {
      "text/plain": [
       "array(['0000', '0100', '0011', '0012', '1002', '0001', '0002', '1001',\n",
       "       '1000', '1100', '1101', '0111', '1011', '1102', '0110', '1111',\n",
       "       '1012', '1112', '0102', '1010', '0101', '0112', '1110', '0010'],\n",
       "      dtype=object)"
      ]
     },
     "metadata": {},
     "execution_count": 10
    }
   ],
   "source": [
    "data2016['STATE'] = ((~data2016.BASE1_RUN_ID.isnull()).astype(int).astype(str)\n",
    "                    + (~data2016.BASE2_RUN_ID.isnull()).astype(int).astype(str)\n",
    "                    + (~data2016.BASE3_RUN_ID.isnull()).astype(int).astype(str)\n",
    "                    + data2016.OUTS_CT.astype(str))\n",
    "\n",
    "data2016['STATE'].unique()"
   ]
  },
  {
   "cell_type": "markdown",
   "metadata": {},
   "source": [
    "Create indicators for base occupancy following the play."
   ]
  },
  {
   "cell_type": "code",
   "execution_count": 11,
   "metadata": {},
   "outputs": [
    {
     "output_type": "execute_result",
     "data": {
      "text/plain": [
       "  STATE NEW_STATE\n",
       "0  0000      0100\n",
       "1  0100      0011\n",
       "2  0011      0012\n",
       "3  0012      1002\n",
       "4  1002      1003"
      ],
      "text/html": "<div>\n<style scoped>\n    .dataframe tbody tr th:only-of-type {\n        vertical-align: middle;\n    }\n\n    .dataframe tbody tr th {\n        vertical-align: top;\n    }\n\n    .dataframe thead th {\n        text-align: right;\n    }\n</style>\n<table border=\"1\" class=\"dataframe\">\n  <thead>\n    <tr style=\"text-align: right;\">\n      <th></th>\n      <th>STATE</th>\n      <th>NEW_STATE</th>\n    </tr>\n  </thead>\n  <tbody>\n    <tr>\n      <th>0</th>\n      <td>0000</td>\n      <td>0100</td>\n    </tr>\n    <tr>\n      <th>1</th>\n      <td>0100</td>\n      <td>0011</td>\n    </tr>\n    <tr>\n      <th>2</th>\n      <td>0011</td>\n      <td>0012</td>\n    </tr>\n    <tr>\n      <th>3</th>\n      <td>0012</td>\n      <td>1002</td>\n    </tr>\n    <tr>\n      <th>4</th>\n      <td>1002</td>\n      <td>1003</td>\n    </tr>\n  </tbody>\n</table>\n</div>"
     },
     "metadata": {},
     "execution_count": 11
    }
   ],
   "source": [
    "data2016['NRUNNER1'] = ((data2016.RUN1_DEST_ID==1) | (data2016.BAT_DEST_ID==1)).astype(int)\n",
    "data2016['NRUNNER2'] = ((data2016.RUN1_DEST_ID==2) | (data2016.RUN2_DEST_ID==2) \n",
    "                            | (data2016.BAT_DEST_ID==2)).astype(int)\n",
    "data2016['NRUNNER3'] = ((data2016.RUN1_DEST_ID==3) | (data2016.RUN2_DEST_ID==3) \n",
    "                            | (data2016.RUN3_DEST_ID==3) | (data2016.BAT_DEST_ID==3)).astype(int)\n",
    "data2016['NOUTS'] = data2016.OUTS_CT + data2016.EVENT_OUTS_CT\n",
    "data2016['NEW_BASES'] = data2016[['NRUNNER1', 'NRUNNER2', 'NRUNNER3']].astype(int).astype(str).agg(''.join, axis=1)\n",
    "data2016['NEW_STATE'] = data2016[['NEW_BASES', 'NOUTS']].astype(str).agg(''.join, axis=1)\n",
    "\n",
    "data2016[['STATE', 'NEW_STATE']].head()"
   ]
  },
  {
   "cell_type": "markdown",
   "metadata": {},
   "source": [
    "Condition on change between state and new state, or runs scored."
   ]
  },
  {
   "cell_type": "code",
   "execution_count": 12,
   "metadata": {},
   "outputs": [],
   "source": [
    "data2016 = data2016.query('(STATE != NEW_STATE) | (RUNS_SCORED > 0)')"
   ]
  },
  {
   "cell_type": "markdown",
   "metadata": {},
   "source": [
    "Remove incomplete innings."
   ]
  },
  {
   "cell_type": "code",
   "execution_count": 13,
   "metadata": {},
   "outputs": [],
   "source": [
    "data2016_complete = data2016.query('outs_inning==3')"
   ]
  },
  {
   "cell_type": "markdown",
   "metadata": {},
   "source": [
    "Calculate run expectancy for base/outs states."
   ]
  },
  {
   "cell_type": "code",
   "execution_count": 23,
   "metadata": {},
   "outputs": [],
   "source": [
    "expected_runs = data2016_complete.groupby('STATE').agg(mean_runs=('RUNS_ROI', 'mean')).reset_index()\n",
    "expected_runs['base_state'] = expected_runs.STATE.str[:3]\n",
    "expected_runs['outs'] = expected_runs.STATE.str[-1]"
   ]
  },
  {
   "cell_type": "code",
   "execution_count": 28,
   "metadata": {},
   "outputs": [
    {
     "output_type": "execute_result",
     "data": {
      "text/plain": [
       "outs           0     1     2\n",
       "base_state                  \n",
       "000         0.50  0.27  0.11\n",
       "001         1.35  0.94  0.37\n",
       "010         1.13  0.67  0.31\n",
       "011         1.93  1.36  0.55\n",
       "100         0.86  0.51  0.22\n",
       "101         1.72  1.20  0.48\n",
       "110         1.44  0.92  0.41\n",
       "111         2.11  1.54  0.70"
      ],
      "text/html": "<div>\n<style scoped>\n    .dataframe tbody tr th:only-of-type {\n        vertical-align: middle;\n    }\n\n    .dataframe tbody tr th {\n        vertical-align: top;\n    }\n\n    .dataframe thead th {\n        text-align: right;\n    }\n</style>\n<table border=\"1\" class=\"dataframe\">\n  <thead>\n    <tr style=\"text-align: right;\">\n      <th>outs</th>\n      <th>0</th>\n      <th>1</th>\n      <th>2</th>\n    </tr>\n    <tr>\n      <th>base_state</th>\n      <th></th>\n      <th></th>\n      <th></th>\n    </tr>\n  </thead>\n  <tbody>\n    <tr>\n      <th>000</th>\n      <td>0.50</td>\n      <td>0.27</td>\n      <td>0.11</td>\n    </tr>\n    <tr>\n      <th>001</th>\n      <td>1.35</td>\n      <td>0.94</td>\n      <td>0.37</td>\n    </tr>\n    <tr>\n      <th>010</th>\n      <td>1.13</td>\n      <td>0.67</td>\n      <td>0.31</td>\n    </tr>\n    <tr>\n      <th>011</th>\n      <td>1.93</td>\n      <td>1.36</td>\n      <td>0.55</td>\n    </tr>\n    <tr>\n      <th>100</th>\n      <td>0.86</td>\n      <td>0.51</td>\n      <td>0.22</td>\n    </tr>\n    <tr>\n      <th>101</th>\n      <td>1.72</td>\n      <td>1.20</td>\n      <td>0.48</td>\n    </tr>\n    <tr>\n      <th>110</th>\n      <td>1.44</td>\n      <td>0.92</td>\n      <td>0.41</td>\n    </tr>\n    <tr>\n      <th>111</th>\n      <td>2.11</td>\n      <td>1.54</td>\n      <td>0.70</td>\n    </tr>\n  </tbody>\n</table>\n</div>"
     },
     "metadata": {},
     "execution_count": 28
    }
   ],
   "source": [
    "expected_runs.pivot(index='base_state', columns='outs', values='mean_runs').round(2)"
   ]
  },
  {
   "source": [
    "## Estimating the success of a batting play"
   ],
   "cell_type": "markdown",
   "metadata": {}
  },
  {
   "cell_type": "code",
   "execution_count": null,
   "metadata": {},
   "outputs": [],
   "source": []
  }
 ],
 "metadata": {
  "language_info": {
   "codemirror_mode": {
    "name": "ipython",
    "version": 3
   },
   "file_extension": ".py",
   "mimetype": "text/x-python",
   "name": "python",
   "nbconvert_exporter": "python",
   "pygments_lexer": "ipython3",
   "version": "3.8.6-final"
  },
  "orig_nbformat": 2,
  "kernelspec": {
   "name": "python3",
   "display_name": "Python 3",
   "language": "python"
  }
 },
 "nbformat": 4,
 "nbformat_minor": 2
}